{
 "cells": [
  {
   "cell_type": "code",
   "execution_count": 1,
   "metadata": {},
   "outputs": [],
   "source": [
    "import pandas as pd\n",
    "import bs4\n",
    "from datetime import datetime, timedelta\n",
    "from ics import Calendar, Event\n",
    "\n",
    "def get_slots(path_to_csv):\n",
    "    \n",
    "    df = pd.read_csv(path_to_csv)\n",
    "    t = df[df.columns[0]].notnull()\n",
    "    for i in range(1,len(df.columns)):\n",
    "        t = t | df[df.columns[i]].notnull()\n",
    "\n",
    "    df = df[t]\n",
    "    df[df[\"Unnamed: 0\"].apply(lambda x: len(str(x)) == 3)]\n",
    "    df = df[df[\"Unnamed: 0\"].apply(lambda x: len(str(x)) == 3)]\n",
    "\n",
    "    time = df.values[0]\n",
    "\n",
    "    d = {}\n",
    "    for row in df.values:\n",
    "        for i in range(len(row)):\n",
    "            c = row[i]\n",
    "            if len(str(c)) == 1:\n",
    "                day = row[0]\n",
    "                t = time[i]\n",
    "                if c not in d:\n",
    "                    d[c] = []\n",
    "                start,end = time[i].split(\"-\")\n",
    "                start,end = start.strip(), end.strip()\n",
    "                d[c].append({\"day\":day,\"start\":start, \"end\":end})\n",
    "    \n",
    "    return d\n",
    "\n",
    "def get_course_details(course_list_csv):\n",
    "    course_details = {}\n",
    "    df = pd.read_csv(\"List of Courses.csv\",header=1)\n",
    "    \n",
    "    for code, name, slot in zip(df[\"Course Code\"],df[\"Title\"],df[\"Slot\"]):\n",
    "        course_details[code] = {\"title\":name,\"slot\":slot} \n",
    "    \n",
    "    return course_details\n",
    "\n",
    "def get_registered_courses(registration_sheet_path):\n",
    "    with open(registration_sheet_path, 'r') as content_file:\n",
    "        content = content_file.read()\n",
    "\n",
    "    soup = bs4.BeautifulSoup(content)\n",
    "    tables = soup.find_all(\"table\")\n",
    "    df = pd.read_html(str(tables[3]))[0]\n",
    "\n",
    "    courses = df[\"CourseCode\"].dropna()\n",
    "    return [i for i in courses]\n",
    "\n",
    "def generate_event_details(courses, slot_details, event_details):\n",
    "    code, title, day,start,end = [],[],[],[],[]\n",
    "    time = []\n",
    "    d = []\n",
    "    for cc in courses:\n",
    "        for slot in slot_details[event_details[cc][\"slot\"]]:\n",
    "            t = slot.copy()\n",
    "            t[\"code\"] = cc\n",
    "            t[\"title\"] = event_details[cc][\"title\"]\n",
    "            d.append(t)\n",
    "          \n",
    "\n",
    "    df = pd.DataFrame(d)\n",
    "    return df\n",
    "\n",
    "def generate_ical_file(event_details,output=\"output.ics\"):\n",
    "\n",
    "    end = datetime(2020, 5, 6, 23, 59, 59, 0)\n",
    "\n",
    "    date = datetime.today()\n",
    "    c = Calendar()\n",
    "    while date < end: \n",
    "        day = date.strftime('%a')\n",
    "        for _, row in event_details[event_details[\"day\"]==day].iterrows():\n",
    "            e = Event()\n",
    "            e.name = row[\"title\"]\n",
    "            e.begin = date.strftime(\"%Y-%m-%d \")+ row[\"start\"] + \"+05:30\"\n",
    "            e.end =  date.strftime(\"%Y-%m-%d \")+ row[\"end\"] + \"+05:30\"\n",
    "            c.events.add(e)\n",
    "        date += timedelta(days=1)\n",
    "\n",
    "    with open(output, 'w') as f:\n",
    "        f.write(str(c))\n",
    "    \n",
    "    return c\n",
    "\n",
    "def get_slot_details_with_rooms(Room_table_csv):\n",
    "    df = pd.read_csv(Room_table_csv,header=1)\n",
    "\n",
    "    df[\"Day\"].fillna(method=\"ffill\", inplace=True)\n",
    "\n",
    "    df[\"Day\"] = df[\"Day\"].apply(lambda x: x[:3])\n",
    "\n",
    "    d  = {}\n",
    "    for row in df.values:\n",
    "        for i in range(len(row)):\n",
    "            c = row[i]    \n",
    "            if \":\" in str(c):\n",
    "                Type,code = c.split(\":\")\n",
    "                day = row[0]\n",
    "                time = df.columns[i]\n",
    "                start,end = time.split(\"-\")\n",
    "                start,end = start.strip(),end.strip()\n",
    "                Type = Type.strip()\n",
    "                room = row[1]\n",
    "                if code not in d:\n",
    "                    d[code] = []\n",
    "                d[code].append({\"day\":day,\"room\":room, \"start\":start,\"end\":end ,\"type\":Type})\n",
    "    return d"
   ]
  },
  {
   "cell_type": "code",
   "execution_count": null,
   "metadata": {},
   "outputs": [],
   "source": [
    "def main(course_registration_html, output=\"output.ics\"):\n",
    "    slot_details = get_slots(\"Slot System.csv\")\n",
    "\n",
    "    course_details = get_course_details(\"List of Courses.csv\")\n",
    "\n",
    "    registered_courses = get_registered_courses(course_registration_html)\n",
    "\n",
    "    event_details = generate_event_details(registered_courses, slot_details, course_details)\n",
    "\n",
    "    c = generate_ical_file(event_details,output)\n",
    "    \n",
    "    return c"
   ]
  },
  {
   "cell_type": "code",
   "execution_count": null,
   "metadata": {},
   "outputs": [],
   "source": [
    "def main_new(course_registration_html, output=\"output.ics\"):\n",
    "    registered_courses = get_registered_courses(course_registration_html)\n",
    "    d = get_slot_details_with_rooms(Room_table_csv=\"Room Wise Time Table.csv\")\n",
    "    course_details = get_course_details(\"List of Courses.csv\")\n",
    "    registerd_d = []\n",
    "    for course in registered_courses:\n",
    "        for slot in d[course]:\n",
    "            t = slot.copy()\n",
    "            t[\"title\"] = course_details[course][\"title\"]\n",
    "            t[\"code\"] = course\n",
    "            registerd_d.append(t)\n",
    "    \n",
    "    event_details = pd.DataFrame(registerd_d)\n",
    "    c = generate_ical_file(event_details,output)\n",
    "    \n",
    "    return c"
   ]
  },
  {
   "cell_type": "code",
   "execution_count": null,
   "metadata": {},
   "outputs": [],
   "source": []
  },
  {
   "cell_type": "code",
   "execution_count": null,
   "metadata": {},
   "outputs": [],
   "source": [
    "main_new(\"Course Registration.html\",output=\"arjun_new.ics\")"
   ]
  },
  {
   "cell_type": "code",
   "execution_count": null,
   "metadata": {},
   "outputs": [],
   "source": [
    "slot_details = get_slots(\"Slot System.csv\")\n",
    "course_details = get_course_details(\"List of Courses.csv\")"
   ]
  },
  {
   "cell_type": "code",
   "execution_count": null,
   "metadata": {},
   "outputs": [],
   "source": [
    "main(\"Course Registration.html\",output=\"arjun.ics\")"
   ]
  },
  {
   "cell_type": "markdown",
   "metadata": {},
   "source": [
    "# Indraneel"
   ]
  },
  {
   "cell_type": "code",
   "execution_count": null,
   "metadata": {},
   "outputs": [],
   "source": [
    "c  = main(\"Course Registration Indraneel.html\",output=\"indraneel.ics\")"
   ]
  },
  {
   "cell_type": "code",
   "execution_count": null,
   "metadata": {},
   "outputs": [],
   "source": [
    "c.event"
   ]
  },
  {
   "cell_type": "code",
   "execution_count": null,
   "metadata": {},
   "outputs": [],
   "source": [
    "course_registration_html = \"Course Registration Indraneel.html\"\n"
   ]
  },
  {
   "cell_type": "code",
   "execution_count": null,
   "metadata": {},
   "outputs": [],
   "source": [
    "registered_courses = get_registered_courses(course_registration_html)"
   ]
  },
  {
   "cell_type": "code",
   "execution_count": null,
   "metadata": {},
   "outputs": [],
   "source": [
    "registered_courses"
   ]
  },
  {
   "cell_type": "code",
   "execution_count": null,
   "metadata": {},
   "outputs": [],
   "source": [
    "del registered_courses[2]  # Removing Reliability"
   ]
  },
  {
   "cell_type": "code",
   "execution_count": null,
   "metadata": {},
   "outputs": [],
   "source": [
    "registered_courses.append(\"CS 419/619\") #adding computer vision"
   ]
  },
  {
   "cell_type": "code",
   "execution_count": null,
   "metadata": {},
   "outputs": [],
   "source": [
    "registered_courses"
   ]
  },
  {
   "cell_type": "code",
   "execution_count": null,
   "metadata": {},
   "outputs": [],
   "source": [
    "del registered_courses[3] # removed 2d "
   ]
  },
  {
   "cell_type": "code",
   "execution_count": null,
   "metadata": {},
   "outputs": [],
   "source": [
    "registered_courses.append(\"IHS 443/643\") #adding contemporary"
   ]
  },
  {
   "cell_type": "code",
   "execution_count": null,
   "metadata": {},
   "outputs": [],
   "source": [
    "event_details = generate_event_details(registered_courses, slot_details, course_details)"
   ]
  },
  {
   "cell_type": "code",
   "execution_count": null,
   "metadata": {},
   "outputs": [],
   "source": [
    "event_details"
   ]
  },
  {
   "cell_type": "code",
   "execution_count": null,
   "metadata": {},
   "outputs": [],
   "source": [
    "event_details.pivot_table(index=\"day\", columns=\"start\", values=\"title\", aggfunc=lambda x: x)"
   ]
  },
  {
   "cell_type": "code",
   "execution_count": null,
   "metadata": {},
   "outputs": [],
   "source": [
    "pc = []\n",
    "for cc in course_details:\n",
    "    if course_details[cc][\"slot\"] in slot_details:\n",
    "        flag = True\n",
    "        for day,_ in slot_details[course_details[cc][\"slot\"]]:\n",
    "            if day == \"Wed\" or day==\"Tue\":\n",
    "                flag = False\n",
    "                break\n",
    "        if flag:\n",
    "            if cc.split()[1][0] in [\"4\",\"6\"]:\n",
    "                pc.append(cc)"
   ]
  },
  {
   "cell_type": "code",
   "execution_count": null,
   "metadata": {},
   "outputs": [],
   "source": [
    "for cc in pc:\n",
    "    if cc not in registered_courses:\n",
    "        print(course_details[cc][\"title\"], cc)"
   ]
  },
  {
   "cell_type": "code",
   "execution_count": null,
   "metadata": {},
   "outputs": [],
   "source": [
    "course_details['HS 641'][]"
   ]
  },
  {
   "cell_type": "code",
   "execution_count": null,
   "metadata": {
    "scrolled": false
   },
   "outputs": [],
   "source": [
    "event_details.pivot_table(index=\"day\", columns=\"start\", values=\"title\", aggfunc=lambda x: x)"
   ]
  },
  {
   "cell_type": "markdown",
   "metadata": {},
   "source": [
    "# Arjun"
   ]
  },
  {
   "cell_type": "code",
   "execution_count": null,
   "metadata": {},
   "outputs": [],
   "source": [
    "course_registration_html = \"Course Registration.html\"\n",
    "registered_courses = get_registered_courses(course_registration_html)\n",
    "\n",
    "\n",
    "\n",
    "del registered_courses[2] # Removed Contemporary Indian Thought\n",
    "\n",
    "registered_courses.append(\"CS 420/620\") # Added Embedded \n",
    "\n",
    "del registered_courses[3]\n",
    "\n",
    "registered_courses.append(\"IHS 443/643\") # added Contemporary short fiction\n",
    "\n",
    "registered_courses.append(\"CS 417/617\") # what if Auditing Crypto\n",
    "\n",
    "registered_courses.append(\"EE 446/646\") # what if Auditing Imformation Coding theory\n",
    "\n",
    "registered_courses.append(\"HS 412/612\") # what if Auditing  contemporary  Indian thought\n",
    "\n",
    "registered_courses.append(\"ME 472/672\") # what if Auditing Reliablity \n",
    "\n",
    "registered_courses.append(\"IHS 444\") # what if Auditing Literature of 20th century\n",
    "\n",
    "registered_courses.append(\"HS 418/618\") # what if Auditing Sustainibility Studies \n",
    "\n",
    "registered_courses.append(\"MM 402/602\") # what if Auditing Design and Selection of materials"
   ]
  },
  {
   "cell_type": "code",
   "execution_count": null,
   "metadata": {},
   "outputs": [],
   "source": [
    "registered_courses.append(\"CE 404\") # what if Auditing Galactic and Extragalactic Astronomy"
   ]
  },
  {
   "cell_type": "code",
   "execution_count": null,
   "metadata": {},
   "outputs": [],
   "source": [
    "event_details = generate_event_details(registered_courses, slot_details, course_details)\n",
    "all([i==1 for i in event_details.groupby(['day','start']).size()]) # Check valid"
   ]
  },
  {
   "cell_type": "code",
   "execution_count": null,
   "metadata": {},
   "outputs": [],
   "source": [
    "len(registered_courses)"
   ]
  },
  {
   "cell_type": "code",
   "execution_count": null,
   "metadata": {},
   "outputs": [],
   "source": [
    "event_details = generate_event_details(registered_courses, slot_details, course_details)\n",
    "event_details"
   ]
  },
  {
   "cell_type": "code",
   "execution_count": null,
   "metadata": {},
   "outputs": [],
   "source": [
    "event_details = generate_event_details(registered_courses, slot_details, course_details)\n",
    "event_details.pivot_table(index=\"day\", columns=\"start\", values=\"title\", aggfunc=lambda x: x)"
   ]
  },
  {
   "cell_type": "code",
   "execution_count": null,
   "metadata": {},
   "outputs": [],
   "source": [
    "registered_courses"
   ]
  },
  {
   "cell_type": "code",
   "execution_count": null,
   "metadata": {},
   "outputs": [],
   "source": [
    "schedule = event_details.pivot_table(index=\"day\", columns=\"start\", values=\"title\", aggfunc=lambda x: x)"
   ]
  },
  {
   "cell_type": "code",
   "execution_count": null,
   "metadata": {},
   "outputs": [],
   "source": []
  },
  {
   "cell_type": "markdown",
   "metadata": {},
   "source": [
    "# Prathamesh"
   ]
  },
  {
   "cell_type": "code",
   "execution_count": null,
   "metadata": {},
   "outputs": [],
   "source": [
    "course_registration_html = \"Course Registration Prathamesh.html\"\n",
    "registered_courses = get_registered_courses(course_registration_html)"
   ]
  },
  {
   "cell_type": "code",
   "execution_count": null,
   "metadata": {},
   "outputs": [],
   "source": [
    "registered_courses"
   ]
  },
  {
   "cell_type": "code",
   "execution_count": null,
   "metadata": {},
   "outputs": [],
   "source": [
    "registered_courses.append(\"CS 417/617\") # crypto\n",
    "registered_courses.append(\"CS 420/620\") # embedded\n",
    "registered_courses.append(\"CE 438\") # probability\n"
   ]
  },
  {
   "cell_type": "code",
   "execution_count": null,
   "metadata": {},
   "outputs": [],
   "source": [
    "event_details = generate_event_details(registered_courses, slot_details, course_details)\n",
    "event_details.pivot_table(index=\"day\", columns=\"start\", values=\"title\", aggfunc=lambda x: x)"
   ]
  },
  {
   "cell_type": "code",
   "execution_count": null,
   "metadata": {},
   "outputs": [],
   "source": [
    "schedule"
   ]
  },
  {
   "cell_type": "markdown",
   "metadata": {},
   "source": [
    "# Exporting json"
   ]
  },
  {
   "cell_type": "code",
   "execution_count": 10,
   "metadata": {},
   "outputs": [],
   "source": [
    "slot_details = get_slots(\"Slot System.csv\")\n",
    "course_details = get_course_details(\"List of Courses.csv\")"
   ]
  },
  {
   "cell_type": "code",
   "execution_count": 11,
   "metadata": {},
   "outputs": [],
   "source": [
    "for course in course_details:\n",
    "    if course_details[course][\"slot\"] in slot_details:\n",
    "        course_details[course][\"slots\"] =  slot_details[course_details[course][\"slot\"]]\n",
    "    else:\n",
    "        course_details[course][\"slots\"] = []"
   ]
  },
  {
   "cell_type": "code",
   "execution_count": 12,
   "metadata": {},
   "outputs": [],
   "source": [
    "rooms = get_slot_details_with_rooms(\"Room Wise Time Table.csv\")"
   ]
  },
  {
   "cell_type": "code",
   "execution_count": 5,
   "metadata": {},
   "outputs": [
    {
     "data": {
      "text/plain": [
       "{'title': 'Linear Algebra and Ordinary Differential Equation-I',\n",
       " 'slot': 'A',\n",
       " 'slots': [{'day': 'Mon', 'start': '10:00', 'end': '10:55'},\n",
       "  {'day': 'Thu', 'start': '10:00', 'end': '10:55'},\n",
       "  {'day': 'Fri', 'start': '10:00', 'end': '10:55'}]}"
      ]
     },
     "execution_count": 5,
     "metadata": {},
     "output_type": "execute_result"
    }
   ],
   "source": [
    "course_details['MA 106(A)']"
   ]
  },
  {
   "cell_type": "code",
   "execution_count": 6,
   "metadata": {},
   "outputs": [
    {
     "data": {
      "text/plain": [
       "[{'day': 'Mon',\n",
       "  'room': '1E -104',\n",
       "  'start': '10:00',\n",
       "  'end': '10:55',\n",
       "  'type': 'L'},\n",
       " {'day': 'Thu',\n",
       "  'room': '1E -104',\n",
       "  'start': '10:00',\n",
       "  'end': '10:55',\n",
       "  'type': 'L'},\n",
       " {'day': 'Fri',\n",
       "  'room': '1E -104',\n",
       "  'start': '10:00',\n",
       "  'end': '10:55',\n",
       "  'type': 'L'}]"
      ]
     },
     "execution_count": 6,
     "metadata": {},
     "output_type": "execute_result"
    }
   ],
   "source": [
    "rooms['MA 106(A)']"
   ]
  },
  {
   "cell_type": "code",
   "execution_count": 7,
   "metadata": {},
   "outputs": [
    {
     "ename": "NameError",
     "evalue": "name 'course_code' is not defined",
     "output_type": "error",
     "traceback": [
      "\u001b[0;31m---------------------------------------------------------------------------\u001b[0m",
      "\u001b[0;31mNameError\u001b[0m                                 Traceback (most recent call last)",
      "\u001b[0;32m<ipython-input-7-5bd38325ae6b>\u001b[0m in \u001b[0;36m<module>\u001b[0;34m\u001b[0m\n\u001b[1;32m      3\u001b[0m \u001b[0;32mfor\u001b[0m \u001b[0mc\u001b[0m \u001b[0;32min\u001b[0m \u001b[0mcourse_details\u001b[0m\u001b[0;34m:\u001b[0m\u001b[0;34m\u001b[0m\u001b[0;34m\u001b[0m\u001b[0m\n\u001b[1;32m      4\u001b[0m     \u001b[0;32mif\u001b[0m \u001b[0mc\u001b[0m \u001b[0;32mnot\u001b[0m \u001b[0;32min\u001b[0m \u001b[0mrooms\u001b[0m\u001b[0;34m:\u001b[0m\u001b[0;34m\u001b[0m\u001b[0;34m\u001b[0m\u001b[0m\n\u001b[0;32m----> 5\u001b[0;31m         \u001b[0mprint\u001b[0m\u001b[0;34m(\u001b[0m\u001b[0mcourse_details\u001b[0m\u001b[0;34m[\u001b[0m\u001b[0mcourse_code\u001b[0m\u001b[0;34m]\u001b[0m\u001b[0;34m[\u001b[0m\u001b[0;34m\"slots\"\u001b[0m\u001b[0;34m]\u001b[0m\u001b[0;34m)\u001b[0m\u001b[0;34m\u001b[0m\u001b[0;34m\u001b[0m\u001b[0m\n\u001b[0m\u001b[1;32m      6\u001b[0m         \u001b[0;32mfor\u001b[0m \u001b[0mslot1\u001b[0m \u001b[0;32min\u001b[0m \u001b[0mcourse_details\u001b[0m\u001b[0;34m[\u001b[0m\u001b[0mcourse_code\u001b[0m\u001b[0;34m]\u001b[0m\u001b[0;34m[\u001b[0m\u001b[0;34m\"slots\"\u001b[0m\u001b[0;34m]\u001b[0m\u001b[0;34m:\u001b[0m\u001b[0;34m\u001b[0m\u001b[0;34m\u001b[0m\u001b[0m\n\u001b[1;32m      7\u001b[0m             \u001b[0;32mif\u001b[0m \u001b[0mcourse_code\u001b[0m \u001b[0;32mnot\u001b[0m \u001b[0;32min\u001b[0m \u001b[0mrooms_not_found\u001b[0m\u001b[0;34m:\u001b[0m\u001b[0;34m\u001b[0m\u001b[0;34m\u001b[0m\u001b[0m\n",
      "\u001b[0;31mNameError\u001b[0m: name 'course_code' is not defined"
     ]
    }
   ],
   "source": [
    "co = 0\n",
    "rooms_not_found = {}\n",
    "for c in course_details:\n",
    "    if c not in rooms:\n",
    "        print(course_details[course_code][\"slots\"])\n",
    "        for slot1 in course_details[course_code][\"slots\"]:\n",
    "            if course_code not in rooms_not_found:\n",
    "                rooms_not_found[course_code] = []\n",
    "            rooms_not_found[course_code].append(slot1)\n",
    "        co += 1\n",
    "co, len(rooms_not_found)"
   ]
  },
  {
   "cell_type": "code",
   "execution_count": 8,
   "metadata": {},
   "outputs": [],
   "source": [
    "rooms_not_found = {}\n",
    "\n",
    "for course_code in course_details:\n",
    "    if course_code in rooms:\n",
    "        for slot1 in course_details[course_code][\"slots\"]:\n",
    "                flag = True\n",
    "                for slot2 in rooms[course_code]:\n",
    "\n",
    "                    if slot1[\"day\"]==slot2[\"day\"] and slot1[\"start\"]==slot2[\"start\"] and slot1[\"end\"] == slot2[\"end\"]:\n",
    "                        slot1[\"room\"] = slot2[\"room\"]\n",
    "                        slot1[\"type\"] = slot2[\"type\"]\n",
    "\n",
    "                        flag=False\n",
    "                        break\n",
    "\n",
    "                    if flag:\n",
    "                        slot1[\"room\"] = \"room not found\"\n",
    "\n",
    "                        if course_code not in rooms_not_found:\n",
    "                            rooms_not_found[course_code] = []\n",
    "                        rooms_not_found[course_code].append(slot1)            \n",
    "    else:\n",
    "        rooms_not_found[course_code] = []"
   ]
  },
  {
   "cell_type": "code",
   "execution_count": 9,
   "metadata": {},
   "outputs": [
    {
     "data": {
      "text/plain": [
       "192"
      ]
     },
     "execution_count": 9,
     "metadata": {},
     "output_type": "execute_result"
    }
   ],
   "source": [
    "len(rooms_not_found)"
   ]
  },
  {
   "cell_type": "code",
   "execution_count": null,
   "metadata": {},
   "outputs": [],
   "source": [
    "rooms_not_found"
   ]
  },
  {
   "cell_type": "code",
   "execution_count": null,
   "metadata": {},
   "outputs": [],
   "source": [
    "rooms_not_found"
   ]
  },
  {
   "cell_type": "code",
   "execution_count": 14,
   "metadata": {},
   "outputs": [
    {
     "data": {
      "text/plain": [
       "{'title': 'Bio-Sciences',\n",
       " 'slot': 'B',\n",
       " 'slots': [{'day': 'Mon', 'start': '09:00', 'end': '09:55'},\n",
       "  {'day': 'Tue', 'start': '11:00', 'end': '11:55'},\n",
       "  {'day': 'Fri', 'start': '09:00', 'end': '09:55'}]}"
      ]
     },
     "execution_count": 14,
     "metadata": {},
     "output_type": "execute_result"
    }
   ],
   "source": [
    "course_details[\"BSE 102\"]"
   ]
  },
  {
   "cell_type": "code",
   "execution_count": 17,
   "metadata": {},
   "outputs": [
    {
     "data": {
      "text/plain": [
       "[{'day': 'Mon',\n",
       "  'room': '1E -104',\n",
       "  'start': '09:00',\n",
       "  'end': '09:55',\n",
       "  'type': 'L'},\n",
       " {'day': 'Tue',\n",
       "  'room': '1E -104',\n",
       "  'start': '11:00',\n",
       "  'end': '11:55',\n",
       "  'type': 'L'}]"
      ]
     },
     "execution_count": 17,
     "metadata": {},
     "output_type": "execute_result"
    }
   ],
   "source": [
    "rooms[\"BSE 102\"]"
   ]
  },
  {
   "cell_type": "code",
   "execution_count": null,
   "metadata": {},
   "outputs": [],
   "source": [
    "course_details[\"BSE 102\"]"
   ]
  },
  {
   "cell_type": "code",
   "execution_count": 13,
   "metadata": {},
   "outputs": [
    {
     "data": {
      "text/plain": [
       "192"
      ]
     },
     "execution_count": 13,
     "metadata": {},
     "output_type": "execute_result"
    }
   ],
   "source": [
    "len(course_details)"
   ]
  },
  {
   "cell_type": "code",
   "execution_count": null,
   "metadata": {},
   "outputs": [],
   "source": []
  }
 ],
 "metadata": {
  "kernelspec": {
   "display_name": "Python 3",
   "language": "python",
   "name": "python3"
  },
  "language_info": {
   "codemirror_mode": {
    "name": "ipython",
    "version": 3
   },
   "file_extension": ".py",
   "mimetype": "text/x-python",
   "name": "python",
   "nbconvert_exporter": "python",
   "pygments_lexer": "ipython3",
   "version": "3.6.9"
  }
 },
 "nbformat": 4,
 "nbformat_minor": 2
}
